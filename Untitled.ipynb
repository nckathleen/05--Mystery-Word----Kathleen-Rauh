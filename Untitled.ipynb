{
 "cells": [
  {
   "cell_type": "code",
   "execution_count": null,
   "metadata": {
    "collapsed": false
   },
   "outputs": [
    {
     "name": "stdout",
     "output_type": "stream",
     "text": [
      "A\n",
      "a\n",
      "aa\n",
      "aal\n"
     ]
    }
   ],
   "source": [
    "f = open(\"/usr/share/dict/words\")\n",
    "word_list = f.read\n",
    "print(word_list(10))\n",
    "Level = input(\"Choose a difficulty level of (E)asy, (M)edium or (H)ard: \")\n",
    "#"
   ]
  },
  {
   "cell_type": "code",
   "execution_count": null,
   "metadata": {
    "collapsed": true
   },
   "outputs": [],
   "source": [
    "f = open(\"/usr/share/dict/words\")\n",
    "    word_list = f.read\n",
    "    \n",
    "import random\n",
    "\n",
    "# # easy_word()\n",
    "\n",
    "# # def easy_words(word_list):\n",
    "#     \"\"\"\n",
    "#     Returns a filtered version of the word list with words only containing\n",
    "#     4-6 characters.\n",
    "#     \"\"\"\n",
    "word = \"\"\n",
    "easy_list =[]\n",
    "for w in word_list:\n",
    "  if len(w) >= 4 and len(w) <= 6:\n",
    "    easy_list.append\n",
    "return"
   ]
  },
  {
   "cell_type": "code",
   "execution_count": null,
   "metadata": {
    "collapsed": true
   },
   "outputs": [],
   "source": [
    "import random\n",
    "easy_words\n",
    "\n",
    "def easy_words(word_list):\n",
    "    \"\"\"\n",
    "    Returns a filtered version of the word list with words only containing\n",
    "    4-6 characters.\n",
    "    \"\"\"\n",
    "    for w in word_list:\n",
    "        if len(w) >= 4 and len(w) <= 6:\n",
    "            list.append\n",
    "            print(list(4))\n",
    "    return list"
   ]
  },
  {
   "cell_type": "code",
   "execution_count": null,
   "metadata": {
    "collapsed": true
   },
   "outputs": [],
   "source": []
  }
 ],
 "metadata": {
  "kernelspec": {
   "display_name": "Python 3",
   "language": "python",
   "name": "python3"
  },
  "language_info": {
   "codemirror_mode": {
    "name": "ipython",
    "version": 3
   },
   "file_extension": ".py",
   "mimetype": "text/x-python",
   "name": "python",
   "nbconvert_exporter": "python",
   "pygments_lexer": "ipython3",
   "version": "3.4.3"
  }
 },
 "nbformat": 4,
 "nbformat_minor": 0
}
